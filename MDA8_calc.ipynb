{
 "cells": [
  {
   "cell_type": "code",
   "execution_count": 2,
   "metadata": {
    "tags": []
   },
   "outputs": [
    {
     "output_type": "stream",
     "name": "stdout",
     "text": "Requirement already satisfied: netCDF4 in c:\\users\\julia\\anaconda3\\lib\\site-packages (1.5.3)\nRequirement already satisfied: cftime in c:\\users\\julia\\anaconda3\\lib\\site-packages (from netCDF4) (1.2.0)\nRequirement already satisfied: numpy>=1.7 in c:\\users\\julia\\anaconda3\\lib\\site-packages (from netCDF4) (1.18.1)\n"
    }
   ],
   "source": [
    "!pip install netCDF4\n",
    "import netCDF4\n",
    "from netCDF4 import Dataset\n",
    "import datetime as dt\n",
    "from netCDF4 import date2num, num2date\n",
    "import numpy as np\n",
    "import pandas as pd\n",
    "import cftime"
   ]
  },
  {
   "cell_type": "code",
   "execution_count": 3,
   "metadata": {},
   "outputs": [],
   "source": [
    "main_path = 'C:/Users/julia/Documents/Juliana/Health Intern/GFDL-ESM4/'\n",
    "scenarios = ['ssp370']\n",
    "# years = [2015, 2025, 2035, 2045, 2055]\n",
    "years = [2065, 2075, 2085, 2095, 2100]"
   ]
  },
  {
   "cell_type": "code",
   "execution_count": 7,
   "metadata": {},
   "outputs": [],
   "source": [
    "def get_mda8(arr):\n",
    "    MDA8 = []\n",
    "\n",
    "    for la in lat:\n",
    "        for lo in lon:\n",
    "            listofhrs = []\n",
    "            eighthr_avgs = []\n",
    "            eighthr_maxima = []\n",
    "            n = 0\n",
    "            total = []\n",
    "            site = eval('file[:,lat.tolist().index(la),lon.tolist().index(lo)]') \n",
    "            for hour in site:\n",
    "                if n < 23:\n",
    "                    listofhrs.append(hour)\n",
    "                    n += 1\n",
    "                else:\n",
    "                    listofhrs.append(hour)\n",
    "                    # Calculate running mean for every 8-hour period in a day in 2015\n",
    "                    a = 0\n",
    "                    b = 7\n",
    "                    while b < len(listofhrs):\n",
    "                        total = listofhrs[a:b]\n",
    "                        eighthr_avgs.append(np.mean(total))\n",
    "                        a += 1\n",
    "                        b += 1\n",
    "                    eighthr_maxima.append(max(eighthr_avgs))\n",
    "                    #print(listofhrs)\n",
    "                    listofhrs = []\n",
    "                    n = 0\n",
    "                eighthr_avgs = []\n",
    "            MDA8.append(np.mean(eighthr_maxima))\n",
    "\n",
    "    #print(MDA8)\n",
    "    #print(len(MDA8))\n",
    "    #print(np.mean(MDA8))\n",
    "    return np.array(MDA8) "
   ]
  },
  {
   "cell_type": "code",
   "execution_count": 11,
   "metadata": {
    "tags": []
   },
   "outputs": [
    {
     "output_type": "stream",
     "name": "stdout",
     "text": "{'bnds': <class 'netCDF4._netCDF4.Dimension'>: name = 'bnds', size = 2, 'lat': <class 'netCDF4._netCDF4.Dimension'>: name = 'lat', size = 180, 'lon': <class 'netCDF4._netCDF4.Dimension'>: name = 'lon', size = 288, 'time': <class 'netCDF4._netCDF4.Dimension'> (unlimited): name = 'time', size = 87600}\n[datetime.datetime(2064, 11, 9, 0, 30)\n datetime.datetime(2064, 11, 9, 1, 30)\n datetime.datetime(2064, 11, 9, 2, 30) ...\n datetime.datetime(2074, 11, 6, 21, 30)\n datetime.datetime(2074, 11, 6, 22, 30)\n datetime.datetime(2074, 11, 6, 23, 30)]\n[[[array([datetime.datetime(2064, 11, 9, 0, 30),\n       datetime.datetime(2064, 11, 9, 1, 30),\n       datetime.datetime(2064, 11, 9, 2, 30), ...,\n       datetime.datetime(2074, 11, 6, 21, 30),\n       datetime.datetime(2074, 11, 6, 22, 30),\n       datetime.datetime(2074, 11, 6, 23, 30)], dtype=object)\n   masked_array(data=[-89.5, -88.5, -87.5, -86.5, -85.5, -84.5, -83.5, -82.5,\n                   -81.5, -80.5, -79.5, -78.5, -77.5, -76.5, -75.5, -74.5,\n                   -73.5, -72.5, -71.5, -70.5, -69.5, -68.5, -67.5, -66.5,\n                   -65.5, -64.5, -63.5, -62.5, -61.5, -60.5, -59.5, -58.5,\n                   -57.5, -56.5, -55.5, -54.5, -53.5, -52.5, -51.5, -50.5,\n                   -49.5, -48.5, -47.5, -46.5, -45.5, -44.5, -43.5, -42.5,\n                   -41.5, -40.5, -39.5, -38.5, -37.5, -36.5, -35.5, -34.5,\n                   -33.5, -32.5, -31.5, -30.5, -29.5, -28.5, -27.5, -26.5,\n                   -25.5, -24.5, -23.5, -22.5, -21.5, -20.5, -19.5, -18.5,\n                   -17.5, -16.5, -15.5, -14.5, -13.5, -12.5, -11.5, -10.5,\n                    -9.5,  -8.5,  -7.5,  -6.5,  -5.5,  -4.5,  -3.5,  -2.5,\n                    -1.5,  -0.5,   0.5,   1.5,   2.5,   3.5,   4.5,   5.5,\n                     6.5,   7.5,   8.5,   9.5,  10.5,  11.5,  12.5,  13.5,\n                    14.5,  15.5,  16.5,  17.5,  18.5,  19.5,  20.5,  21.5,\n                    22.5,  23.5,  24.5,  25.5,  26.5,  27.5,  28.5,  29.5,\n                    30.5,  31.5,  32.5,  33.5,  34.5,  35.5,  36.5,  37.5,\n                    38.5,  39.5,  40.5,  41.5,  42.5,  43.5,  44.5,  45.5,\n                    46.5,  47.5,  48.5,  49.5,  50.5,  51.5,  52.5,  53.5,\n                    54.5,  55.5,  56.5,  57.5,  58.5,  59.5,  60.5,  61.5,\n                    62.5,  63.5,  64.5,  65.5,  66.5,  67.5,  68.5,  69.5,\n                    70.5,  71.5,  72.5,  73.5,  74.5,  75.5,  76.5,  77.5,\n                    78.5,  79.5,  80.5,  81.5,  82.5,  83.5,  84.5,  85.5,\n                    86.5,  87.5,  88.5,  89.5],\n             mask=False,\n       fill_value=1e+20)\n   masked_array(data=[  0.625,   1.875,   3.125,   4.375,   5.625,   6.875,\n                     8.125,   9.375,  10.625,  11.875,  13.125,  14.375,\n                    15.625,  16.875,  18.125,  19.375,  20.625,  21.875,\n                    23.125,  24.375,  25.625,  26.875,  28.125,  29.375,\n                    30.625,  31.875,  33.125,  34.375,  35.625,  36.875,\n                    38.125,  39.375,  40.625,  41.875,  43.125,  44.375,\n                    45.625,  46.875,  48.125,  49.375,  50.625,  51.875,\n                    53.125,  54.375,  55.625,  56.875,  58.125,  59.375,\n                    60.625,  61.875,  63.125,  64.375,  65.625,  66.875,\n                    68.125,  69.375,  70.625,  71.875,  73.125,  74.375,\n                    75.625,  76.875,  78.125,  79.375,  80.625,  81.875,\n                    83.125,  84.375,  85.625,  86.875,  88.125,  89.375,\n                    90.625,  91.875,  93.125,  94.375,  95.625,  96.875,\n                    98.125,  99.375, 100.625, 101.875, 103.125, 104.375,\n                   105.625, 106.875, 108.125, 109.375, 110.625, 111.875,\n                   113.125, 114.375, 115.625, 116.875, 118.125, 119.375,\n                   120.625, 121.875, 123.125, 124.375, 125.625, 126.875,\n                   128.125, 129.375, 130.625, 131.875, 133.125, 134.375,\n                   135.625, 136.875, 138.125, 139.375, 140.625, 141.875,\n                   143.125, 144.375, 145.625, 146.875, 148.125, 149.375,\n                   150.625, 151.875, 153.125, 154.375, 155.625, 156.875,\n                   158.125, 159.375, 160.625, 161.875, 163.125, 164.375,\n                   165.625, 166.875, 168.125, 169.375, 170.625, 171.875,\n                   173.125, 174.375, 175.625, 176.875, 178.125, 179.375,\n                   180.625, 181.875, 183.125, 184.375, 185.625, 186.875,\n                   188.125, 189.375, 190.625, 191.875, 193.125, 194.375,\n                   195.625, 196.875, 198.125, 199.375, 200.625, 201.875,\n                   203.125, 204.375, 205.625, 206.875, 208.125, 209.375,\n                   210.625, 211.875, 213.125, 214.375, 215.625, 216.875,\n                   218.125, 219.375, 220.625, 221.875, 223.125, 224.375,\n                   225.625, 226.875, 228.125, 229.375, 230.625, 231.875,\n                   233.125, 234.375, 235.625, 236.875, 238.125, 239.375,\n                   240.625, 241.875, 243.125, 244.375, 245.625, 246.875,\n                   248.125, 249.375, 250.625, 251.875, 253.125, 254.375,\n                   255.625, 256.875, 258.125, 259.375, 260.625, 261.875,\n                   263.125, 264.375, 265.625, 266.875, 268.125, 269.375,\n                   270.625, 271.875, 273.125, 274.375, 275.625, 276.875,\n                   278.125, 279.375, 280.625, 281.875, 283.125, 284.375,\n                   285.625, 286.875, 288.125, 289.375, 290.625, 291.875,\n                   293.125, 294.375, 295.625, 296.875, 298.125, 299.375,\n                   300.625, 301.875, 303.125, 304.375, 305.625, 306.875,\n                   308.125, 309.375, 310.625, 311.875, 313.125, 314.375,\n                   315.625, 316.875, 318.125, 319.375, 320.625, 321.875,\n                   323.125, 324.375, 325.625, 326.875, 328.125, 329.375,\n                   330.625, 331.875, 333.125, 334.375, 335.625, 336.875,\n                   338.125, 339.375, 340.625, 341.875, 343.125, 344.375,\n                   345.625, 346.875, 348.125, 349.375, 350.625, 351.875,\n                   353.125, 354.375, 355.625, 356.875, 358.125, 359.375],\n             mask=False,\n       fill_value=1e+20)]]]\nnumber of dimensions : 3\n<class 'netCDF4._netCDF4.Variable'>\nfloat32 sfo3(time, lat, lon)\n    long_name: O3 volume mixing ratio in lowest model layer\n    units: mol mol-1\n    missing_value: 1e+20\n    _FillValue: 1e+20\n    cell_methods: area: time: mean\n    cell_measures: area: areacella\n    standard_name: mole_fraction_of_ozone_in_air\n    interp_method: conserve_order1\n    original_name: sfo3\nunlimited dimensions: time\ncurrent shape = (87600, 180, 288)\nfilling on\n"
    },
    {
     "output_type": "error",
     "ename": "TypeError",
     "evalue": "unsupported operand type(s) for *: 'netCDF4._netCDF4.Variable' and 'int'",
     "traceback": [
      "\u001b[1;31m---------------------------------------------------------------------------\u001b[0m",
      "\u001b[1;31mTypeError\u001b[0m                                 Traceback (most recent call last)",
      "\u001b[1;32m<ipython-input-11-44b311f55657>\u001b[0m in \u001b[0;36m<module>\u001b[1;34m\u001b[0m\n\u001b[0;32m     35\u001b[0m \u001b[1;33m\u001b[0m\u001b[0m\n\u001b[0;32m     36\u001b[0m        \u001b[1;31m# unit conversion\u001b[0m\u001b[1;33m\u001b[0m\u001b[1;33m\u001b[0m\u001b[1;33m\u001b[0m\u001b[0m\n\u001b[1;32m---> 37\u001b[1;33m        \u001b[0mo3ppb\u001b[0m \u001b[1;33m=\u001b[0m \u001b[0mhourly_o3\u001b[0m \u001b[1;33m*\u001b[0m \u001b[1;36m10\u001b[0m \u001b[1;33m**\u001b[0m \u001b[1;36m9\u001b[0m \u001b[1;31m# (180, 288)\u001b[0m\u001b[1;33m\u001b[0m\u001b[1;33m\u001b[0m\u001b[0m\n\u001b[0m\u001b[0;32m     38\u001b[0m \u001b[1;33m\u001b[0m\u001b[0m\n\u001b[0;32m     39\u001b[0m        \u001b[1;31m# flatten o3 to 1-d matrix by lat[i], lon[j], pm[i, j]\u001b[0m\u001b[1;33m\u001b[0m\u001b[1;33m\u001b[0m\u001b[1;33m\u001b[0m\u001b[0m\n",
      "\u001b[1;31mTypeError\u001b[0m: unsupported operand type(s) for *: 'netCDF4._netCDF4.Variable' and 'int'"
     ]
    }
   ],
   "source": [
    " for ssp in scenarios:\n",
    "    \n",
    "    path = main_path + 'sfo3_AERhr_GFDL-ESM4_' + ssp + '_r1i1p1f1_gr1_206501010030-207412312330.nc'\n",
    "    ncdata = Dataset(path, mode = 'r')\n",
    "    \n",
    "    print(ncdata.dimensions)\n",
    "    lat = ncdata.variables['lat'][:]\n",
    "    lon = ncdata.variables['lon'][:]\n",
    "\n",
    "    # convert longitude format from (0, 360) to (-180, 180)\n",
    "    lon_180 = ((np.array(ncdata.variables['lon'][:]) + 180) % 360) - 180\n",
    "    \n",
    "    # convert netcdf time to datetime\n",
    "    time_num2date = num2date(ncdata.variables['time'][:],ncdata.variables['time'].units, calendar = 'gregorian')\n",
    "    print(time_num2date)\n",
    "\n",
    "    arr = np.array([time_num2date,lat,lon], ndmin=3)\n",
    "\n",
    "    print(arr)\n",
    "    print('number of dimensions :', arr.ndim)\n",
    "    \n",
    "    for year in years:\n",
    "        \n",
    "        # retrieve all the o3 forecase for the specific year\n",
    "        #year_index = np.where(pd.DatetimeIndex(time_num2date).year == year)\n",
    "        #print(year_index)\n",
    "        #o3_year = ncdata.variables['sfo3'] # (12, 180, 288)\n",
    "        #print(o3_year)\n",
    "        \n",
    "        # retrieve hourly o3\n",
    "        hourly_o3 = ncdata.variables['sfo3']\n",
    "        print(hourly_o3)\n",
    "        # take annual average\n",
    "        #o3_year_avg = np.mean(o3_year, axis = 0) # (180, 288)\n",
    "        \n",
    "        # unit conversion\n",
    "        o3ppb = hourly_o3 * 10 ** 9 # (180, 288)\n",
    "        \n",
    "        # flatten o3 to 1-d matrix by lat[i], lon[j], pm[i, j]\n",
    "        o3_avg_stacked = [o3ppb_year_avg[i, j] for i in range(0, len(ncdata.variables['lat']))\n",
    "                     for j in range(0, len(ncdata.variables['lon']))]\n",
    "        lat_stacked = [ncdata.variables['lat'][i] for i in range(0, len(ncdata.variables['lat']))\n",
    "                     for j in range(0, len(ncdata.variables['lon']))]\n",
    "        lon_stacked = [lon_180[j] for i in range(0, len(ncdata.variables['lat']))\n",
    "                     for j in range(0, len(ncdata.variables['lon']))]\n",
    "        \n",
    "        o3data = pd.DataFrame(np.transpose([lat_stacked, lon_stacked, o3_avg_stacked]), columns = ['lat', 'lon', 'o3'])\n",
    "        \n",
    "        #o3_points.to_csv(main_path + 'esm4_o3_' + ssp + '_' + str(year) + '.csv')\n",
    "    \n",
    "    ncdata.close()\n",
    "    get_mda8(o3data)"
   ]
  },
  {
   "cell_type": "code",
   "execution_count": null,
   "metadata": {},
   "outputs": [],
   "source": []
  }
 ],
 "metadata": {
  "language_info": {
   "codemirror_mode": {
    "name": "ipython",
    "version": 3
   },
   "file_extension": ".py",
   "mimetype": "text/x-python",
   "name": "python",
   "nbconvert_exporter": "python",
   "pygments_lexer": "ipython3",
   "version": "3.7.6-final"
  },
  "orig_nbformat": 2,
  "kernelspec": {
   "name": "python3",
   "display_name": "Python 3"
  }
 },
 "nbformat": 4,
 "nbformat_minor": 2
}